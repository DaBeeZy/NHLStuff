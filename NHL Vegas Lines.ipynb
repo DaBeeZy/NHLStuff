{
 "cells": [
  {
   "cell_type": "code",
   "execution_count": 1,
   "metadata": {},
   "outputs": [
    {
     "name": "stdout",
     "output_type": "stream",
     "text": [
      "NHL odds for 10/07 as of 2019-10-07 07:25:19.498767\n",
      "https://www.vegasinsider.com/nhl/odds/las-vegas/\n"
     ]
    },
    {
     "data": {
      "text/html": [
       "<div>\n",
       "<style scoped>\n",
       "    .dataframe tbody tr th:only-of-type {\n",
       "        vertical-align: middle;\n",
       "    }\n",
       "\n",
       "    .dataframe tbody tr th {\n",
       "        vertical-align: top;\n",
       "    }\n",
       "\n",
       "    .dataframe thead th {\n",
       "        text-align: right;\n",
       "    }\n",
       "</style>\n",
       "<table border=\"1\" class=\"dataframe\">\n",
       "  <thead>\n",
       "    <tr style=\"text-align: right;\">\n",
       "      <th></th>\n",
       "      <th>Away Team</th>\n",
       "      <th>Away Odds</th>\n",
       "      <th>Home Team</th>\n",
       "      <th>Home Odds</th>\n",
       "    </tr>\n",
       "  </thead>\n",
       "  <tbody>\n",
       "    <tr>\n",
       "      <th>0</th>\n",
       "      <td>Buffalo</td>\n",
       "      <td>-105</td>\n",
       "      <td>Columbus</td>\n",
       "      <td>-115</td>\n",
       "    </tr>\n",
       "    <tr>\n",
       "      <th>1</th>\n",
       "      <td>St. Louis</td>\n",
       "      <td>+110</td>\n",
       "      <td>Toronto</td>\n",
       "      <td>-130</td>\n",
       "    </tr>\n",
       "  </tbody>\n",
       "</table>\n",
       "</div>"
      ],
      "text/plain": [
       "    Away Team Away Odds  Home Team Home Odds\n",
       "0     Buffalo      -105   Columbus      -115\n",
       "1   St. Louis      +110    Toronto      -130"
      ]
     },
     "metadata": {},
     "output_type": "display_data"
    },
    {
     "name": "stdout",
     "output_type": "stream",
     "text": [
      "File Saved\n"
     ]
    }
   ],
   "source": [
    "import pandas as pd\n",
    "import numpy as np\n",
    "import requests\n",
    "from datetime import datetime,date, timedelta\n",
    "from IPython.display import display, HTML\n",
    "\n",
    "today = datetime.today().strftime('%m/%d')\n",
    "print('NHL odds for ' +str(today)+' as of '+ str(datetime.today()))\n",
    "url = 'https://www.vegasinsider.com/nhl/odds/las-vegas/'\n",
    "print(url)\n",
    "html = requests.get(url).content\n",
    "dfList = pd.read_html(html)\n",
    "fTable = dfList[9]\n",
    "fTable = fTable.loc[:,[0,2]]\n",
    "fTable = fTable[fTable[0].str.contains(str(today))].reset_index(drop = True)  \n",
    "#nTable = pd.DataFrame(index = 'Game#'[gameNum],columns = ['Away Team','Away Odds', 'Home Team','Home Odds'])\n",
    "\n",
    "def cleanName(name):\n",
    "    teams = []\n",
    "    name = name.split(' ')\n",
    "    if name[5] != '':\n",
    "        teams.append(name[4] + ' '+ name[5])\n",
    "    else:\n",
    "        teams.append(name[4])\n",
    "        \n",
    "    if len(name) == 8:\n",
    "        teams.append(name[6] + ' '+ name[7])\n",
    "    else:\n",
    "        teams.append(name[6])\n",
    "        \n",
    "    teams[0] = ''.join([i for i in teams[0] if not i.isdigit()])\n",
    "    teams[1] = ''.join([i for i in teams[1] if not i.isdigit()])\n",
    "    return teams\n",
    "\n",
    "def cleanOdds(line):\n",
    "    line = line[5:]\n",
    "    if line[0].isdigit():\n",
    "        line = line[1:]\n",
    "    odds = []\n",
    "    odds.append(line[0:4])\n",
    "    odds.append(line[4:8])\n",
    "    return odds\n",
    "    \n",
    "def homeTeam(team):\n",
    "    return team[1]\n",
    "\n",
    "def homeOdds(odds):\n",
    "    return odds[1]\n",
    "\n",
    "def awayTeam(team):\n",
    "    return team[0]\n",
    "\n",
    "def awayOdds(odds):\n",
    "    return odds[0]\n",
    "\n",
    "fTable[0] = fTable[0].apply(cleanName)\n",
    "fTable[2] = fTable[2].apply(cleanOdds)\n",
    "fTable['Home Team'] = fTable[0].apply(homeTeam)\n",
    "fTable['Home Odds'] = fTable[2].apply(homeOdds)\n",
    "fTable[0] = fTable[0].apply(awayTeam)\n",
    "fTable[2] = fTable[2].apply(awayOdds)\n",
    "fTable = fTable.rename(columns = {0:'Away Team',2:'Away Odds'})\n",
    "fTable = fTable.sort_values(by='Away Team')\n",
    "fTable = fTable.reset_index(drop = True)\n",
    "display(fTable)\n",
    "\n",
    "\n",
    "fTable.to_csv('DailyOdds.csv',index = False)\n",
    "print('File Saved')"
   ]
  },
  {
   "cell_type": "code",
   "execution_count": null,
   "metadata": {},
   "outputs": [],
   "source": []
  }
 ],
 "metadata": {
  "kernelspec": {
   "display_name": "Python 3",
   "language": "python",
   "name": "python3"
  },
  "language_info": {
   "codemirror_mode": {
    "name": "ipython",
    "version": 3
   },
   "file_extension": ".py",
   "mimetype": "text/x-python",
   "name": "python",
   "nbconvert_exporter": "python",
   "pygments_lexer": "ipython3",
   "version": "3.7.3"
  }
 },
 "nbformat": 4,
 "nbformat_minor": 2
}
