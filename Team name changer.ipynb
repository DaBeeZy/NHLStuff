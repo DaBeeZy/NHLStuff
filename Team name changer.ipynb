{
 "cells": [
  {
   "cell_type": "code",
   "execution_count": 6,
   "metadata": {},
   "outputs": [
    {
     "name": "stdout",
     "output_type": "stream",
     "text": [
      "['ANA', 'ARI', 'BOS', 'BUF', 'CGY', 'CAR', 'CHI', 'COL', 'CBJ', 'DAL', 'DET', 'EDM', 'FLA', 'LAK', 'MIN', 'MIN', 'NSH', 'NJD', 'NYI', 'NYR', 'OTT', 'PHI', 'PIT', 'SJS', 'STL', 'TBL', 'TOR', 'VAN', 'VGK', 'WSH', 'WPG']\n"
     ]
    }
   ],
   "source": [
    "import pandas as pd\n",
    "import numpy as np\n",
    "\n",
    "def alphaReplace():\n",
    "    return ['ANA','ARI','BOS','BUF','CGY','CAR','CHI','COL','CBJ','DAL','DET','EDM','FLA','LAK','MIN','MIN','NSH','NJD','NYI','NYR','OTT','PHI','PIT','SJS','STL','TBL','TOR','VAN','VGK','WSH','WPG']\n",
    "\n",
    "def fullTeamName(name):\n",
    "    name = name.lower()\n",
    "    if name == 'Anaheim Ducks'.lower() or name == 'Anaheim'.lower() or name == 'Ducks'.lower():\n",
    "        return 'ANA'\n",
    "    elif name == 'Arizona Coyotes'.lower() or name == 'Arizona'.lower() or name == 'Coyotes'.lower():\n",
    "        return 'ARI'\n",
    "    elif name == 'Boston Bruins'.lower() or name == 'Boston'.lower() or name == 'Bruins'.lower():\n",
    "        return 'BOS'\n",
    "    elif name == 'Buffalo Sabres'.lower() or name == 'Buffalo'.lower() or name == 'Sabres'.lower():\n",
    "        return 'BUF'\n",
    "    elif name == 'Carolina Hurricanes'.lower() or name == 'Carolina'.lower() or name == 'Hurricanes'.lower():\n",
    "        return 'CAR'\n",
    "    elif name == 'Columbus Blue Jackets'.lower() or name == 'Columbus'.lower() or name == 'Blue Jackets'.lower() or name == 'Jackets'.lower():\n",
    "        return 'CBJ'\n",
    "    elif name == 'Calgary Flames'.lower() or name == 'Calgary'.lower() or name == 'Flames'.lower():\n",
    "        return 'CGY'\n",
    "    elif name == 'Chicago Blackhawks'.lower() or name == 'Chicago'.lower() or name == 'Blackhawks'.lower():\n",
    "        return 'CHI'\n",
    "    elif name == 'Colorado Avalanche'.lower() or name == 'Colorado'.lower() or name == 'Avalanche'.lower():\n",
    "        return 'COL'\n",
    "    elif name == 'Dallas Stars'.lower() or name == 'Dallas'.lower() or name == 'Stars'.lower():\n",
    "        return 'DAL'\n",
    "    elif name == 'Detroit Red Wings'.lower() or name == 'Detroit'.lower() or name == 'Red Wings'.lower() or name == 'Wings'.lower():\n",
    "        return 'DET'\n",
    "    elif name == 'Edmonton Oilers'.lower() or name == 'Edmonton'.lower() or name == 'Edmonton'.lower() or name == 'Wings'.lower():\n",
    "        return 'EDM'\n",
    "    elif name == 'Florida Panthers'.lower() or name == 'Florida'.lower() or name == 'Panthers'.lower():\n",
    "        return 'FLA'\n",
    "    elif name == 'Los Angeles Kings'.lower() or name == 'Los Angeles'.lower() or name == 'Kings'.lower():\n",
    "        return 'LAK'\n",
    "    elif name == 'Minnesota Wild'.lower() or name == 'Minnesota'.lower() or name == 'Wild'.lower():\n",
    "        return 'MIN'\n",
    "    elif name == 'Montreal Canadiens'.lower() or name == 'Montreal'.lower() or name == 'Canadiens'.lower():\n",
    "        return 'MTL'\n",
    "    elif name == 'New Jersey Devils'.lower() or name == 'New Jersey'.lower() or name == 'Devils'.lower():\n",
    "        return 'NJD'\n",
    "    elif name == 'Nashville Predators'.lower() or name == 'Nashville'.lower() or name == 'Predators'.lower():\n",
    "        return 'NSH'\n",
    "    elif name == 'New York Islanders'.lower() or name == 'Islanders'.lower():\n",
    "        return 'NYI'\n",
    "    elif name == 'New York Rangers'.lower() or name == 'Rangers'.lower():\n",
    "        return 'NYR'\n",
    "    elif name == 'Ottawa Senators'.lower() or name == 'Ottawa'.lower() or name == 'Senators'.lower():\n",
    "        return 'OTT'\n",
    "    elif name == 'Philadelphia Flyers'.lower() or name == 'Philadelphia'.lower() or name == 'Flyers'.lower():\n",
    "        return 'PHI'\n",
    "    elif name == 'Pittsburgh Penguins'.lower() or name == 'Pittsburgh'.lower() or name == 'Penguins'.lower():\n",
    "        return 'PIT'\n",
    "    elif name == 'San Jose Sharks'.lower() or name == 'San Jose'.lower() or name == 'Sharks'.lower():\n",
    "        return 'SJS'\n",
    "    elif name == 'St. Louis Blues'.lower() or name == 'St. Louis'.lower() or name == 'Blues'.lower():\n",
    "        return 'STL'\n",
    "    elif name == 'Tampa Bay Lightning'.lower() or name == 'Tampa Bay'.lower() or name == 'Lightning'.lower():\n",
    "        return 'TBL'\n",
    "    elif name == 'Toronto Maple Leafs'.lower() or name == 'Toronto'.lower() or name == 'Leafs'.lower():\n",
    "        return 'TOR'\n",
    "    elif name == 'Vancouver Canucks'.lower() or name == 'Vancouver'.lower() or name == 'Canucks'.lower():\n",
    "        return 'VAN'\n",
    "    elif name == 'Vegas Golden Knights'.lower() or name == 'Vegas'.lower() or name == 'Golden Knights'.lower() or name == 'Knights'.lower():\n",
    "        return 'VGK'\n",
    "    elif name == 'Winnipeg Jets'.lower() or name == 'Winnipeg'.lower() or name == 'Jets'.lower():\n",
    "        return 'WGP'\n",
    "    elif name == 'Washington Capitals'.lower() or name == 'Washington'.lower() or name == 'Capitals'.lower():\n",
    "        return 'WSH'\n",
    "    "
   ]
  },
  {
   "cell_type": "code",
   "execution_count": null,
   "metadata": {},
   "outputs": [],
   "source": []
  }
 ],
 "metadata": {
  "kernelspec": {
   "display_name": "Python 3",
   "language": "python",
   "name": "python3"
  },
  "language_info": {
   "codemirror_mode": {
    "name": "ipython",
    "version": 3
   },
   "file_extension": ".py",
   "mimetype": "text/x-python",
   "name": "python",
   "nbconvert_exporter": "python",
   "pygments_lexer": "ipython3",
   "version": "3.7.3"
  }
 },
 "nbformat": 4,
 "nbformat_minor": 2
}
